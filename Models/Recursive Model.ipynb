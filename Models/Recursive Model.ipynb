{
 "cells": [
  {
   "cell_type": "markdown",
   "metadata": {
    "collapsed": true
   },
   "source": [
    "# The Recursive Model"
   ]
  },
  {
   "cell_type": "code",
   "execution_count": 1,
   "metadata": {
    "collapsed": true
   },
   "outputs": [],
   "source": [
    "import numpy as np\n",
    "import pandas as pd\n",
    "import tensorflow as tf\n",
    "import matplotlib.pyplot as plt\n",
    "%matplotlib inline"
   ]
  },
  {
   "cell_type": "code",
   "execution_count": 2,
   "metadata": {
    "collapsed": false
   },
   "outputs": [],
   "source": [
    "def normalizeGame(somegame):\n",
    "    means =  np.sum(somegame, 0)/4\n",
    "#     ranges = np.ptp(somegame)\n",
    "    normalgame = (somegame - means)#/ranges\n",
    "    return normalgame\n",
    "\n",
    "def printGame(somegame):\n",
    "    print(somegame[0], somegame[1],\"\\n\",somegame[2],somegame[3])"
   ]
  },
  {
   "cell_type": "code",
   "execution_count": 1,
   "metadata": {
    "collapsed": true
   },
   "outputs": [],
   "source": [
    "import numpy as np\n",
    "\n",
    "def softmax(x):\n",
    "    e_x = np.exp(x - np.max(x))\n",
    "    out = e_x / e_x.sum()\n",
    "    return out"
   ]
  },
  {
   "cell_type": "markdown",
   "metadata": {},
   "source": [
    "$$ EVA1 = \\frac{game_{0,0} * wAa + game_{0,1} * gAb * wAb + game_{1,0} * wAa + game_{1,1} * gAb * wAb}{2.0} $$"
   ]
  },
  {
   "cell_type": "markdown",
   "metadata": {},
   "source": [
    "# Calculate probability of ending up in each cell"
   ]
  },
  {
   "cell_type": "code",
   "execution_count": 4,
   "metadata": {
    "collapsed": false
   },
   "outputs": [],
   "source": [
    "def gameProbabilities(somegame, wAa, wAb, wBa, wBb, gAb, gBa, ChoiceA, ChoiceB):\n",
    "    ''' Calculate probability of ending up in each cell of a game'''  \n",
    "    game = normalizeGame(somegame)\n",
    "#     game = somegame\n",
    "    EVA1 = (game[0][0] * wAa + game[0][1] * gAb * wAb + game[1][0] * wAa + game[1][1] * gAb * wAb)/2.0\n",
    "    EVA2 = (game[2][0] * wAa + game[2][1] * gAb * wAb + game[3][0] * wAa + game[3][1] * gAb * wAb)/2.0\n",
    "    PA = softmax(np.array([EVA1, EVA2]))\n",
    "\n",
    "    EVB1 = (game[0][0] * gBa * wBa + game[0][1]  * wBb + game[2][0] * wBa * gBa + game[2][1] * wBb)/2.0\n",
    "    EVB2 = (game[1][0] * gBa * wBa + game[1][1]  * wBb + game[3][0] * wBa * gBa + game[3][1] * wBb)/2.0\n",
    "    PB = softmax(np.array([EVB1, EVB2]))\n",
    "    \n",
    "    if False:\n",
    "        print(EVA1)\n",
    "        print(EVA2)\n",
    "        print(\"PA:\",PA)\n",
    "        print(\"\")\n",
    "        print(EVB1)\n",
    "        print(EVB2)\n",
    "        print(\"PB:\",PB)\n",
    "        print(\"\")\n",
    "        print(\"\"+ str(PA[0]*PB[0]) + \" \" + str(PA[0]*PB[1]) + \"\\n\" + str(PA[1]*PB[0]) + \" \" + str(PA[1]*PB[1]))\n",
    "    \n",
    "    return PA[ChoiceA]* PB[ChoiceB]"
   ]
  },
  {
   "cell_type": "markdown",
   "metadata": {},
   "source": [
    "# Probability of friends\n",
    "\n",
    "$ P(friends | C_A, C_B, g) = \\frac{P(C_A, C_B | friends, g) * P(friends)}{P(C_A, C_B)} $  \n",
    "\n",
    "$ P(friends | C_A, C_B, g) \\propto P(C_A, C_B | friends, g) * P(friends) $  \n",
    "\n",
    "\n",
    "$ \\propto P(C_A, C_B \\space|\\space friends) * P(friends) $  \n",
    "$ \\propto P(C_A, C_B \\space|\\space friends) $  \n",
    "$ = P(C_A, C_B \\space|\\space W_A < W_B, \\gamma = 1, ...)$  \n",
    "$ \\propto \\frac{1}{n} \\sum_{Wa, Wb}^{n} P(C_A, C_B \\space|\\space W_A < W_B, \\gamma = 1, ...)$"
   ]
  },
  {
   "cell_type": "code",
   "execution_count": 5,
   "metadata": {
    "collapsed": false
   },
   "outputs": [],
   "source": [
    "def friendProb(game, choiceA, choiceB):\n",
    "    probs = np.zeros([51, 51])\n",
    "    wA = np.linspace(0,0.5,51)\n",
    "    wB = np.linspace(0,0.5,51)\n",
    "    gamma = 1\n",
    "    for wAa in wA:\n",
    "        wAb = 1 - wAa\n",
    "        for wBb in wB:\n",
    "            wBa = 1 - wBb\n",
    "            prob = gameProbabilities(game, wAa, wAb, wBa, wBb, gamma, gamma, choiceA, choiceB)\n",
    "            probs[int(wAa*100),int(wBb*100)] = prob\n",
    "#     print(probs)\n",
    "    return np.sum(probs)/(51.*51.)\n"
   ]
  },
  {
   "cell_type": "code",
   "execution_count": 6,
   "metadata": {
    "collapsed": true
   },
   "outputs": [],
   "source": [
    "def enemyProb(game, choiceA, choiceB):\n",
    "    probs = np.zeros([51, 51])\n",
    "    wA = np.linspace(0,0.5,51)\n",
    "    wB = np.linspace(0,0.5,51)\n",
    "    gamma = -1\n",
    "    for wAa in wA:\n",
    "        wAb = 1 - wAa\n",
    "        for wBb in wB:\n",
    "            wBa = 1 - wBb\n",
    "            prob = gameProbabilities(game, wAa, wAb, wBa, wBb, gamma, gamma, choiceA, choiceB)\n",
    "            probs[int(wAa*100),int(wBb*100)] = prob\n",
    "#     print(probs)\n",
    "    return np.sum(probs)/(51.*51.)\n"
   ]
  },
  {
   "cell_type": "code",
   "execution_count": 7,
   "metadata": {
    "collapsed": true
   },
   "outputs": [],
   "source": [
    "def strangerProb(game, choiceA, choiceB):\n",
    "    probs = np.zeros([51, 51])\n",
    "    wA = np.linspace(0.5,1,50)\n",
    "    wB = np.linspace(0.5,1,50)\n",
    "    gamma = 1\n",
    "    for wAa in wA:\n",
    "        wAb = 1 - wAa\n",
    "        for wBb in wB:\n",
    "            wBa = 1 - wBb\n",
    "            prob = gameProbabilities(game, wAa, wAb, wBa, wBb, gamma, gamma, choiceA, choiceB)\n",
    "            probs[int(wAa*100)- 50,int(wBb*100) - 50] = prob\n",
    "#     print(probs)\n",
    "    return np.sum(probs)/(51.*51.)\n"
   ]
  },
  {
   "cell_type": "code",
   "execution_count": 8,
   "metadata": {
    "collapsed": false
   },
   "outputs": [],
   "source": [
    "def FSE(somegame, choiceA, choiceB):\n",
    "    F = friendProb(somegame,choiceA,choiceB)\n",
    "    S = strangerProb(somegame,choiceA,choiceB)\n",
    "    E = enemyProb(somegame,choiceA,choiceB)\n",
    "    fse = F+S+E\n",
    "    return F/fse, S/fse, E/fse"
   ]
  },
  {
   "cell_type": "code",
   "execution_count": 9,
   "metadata": {
    "collapsed": false
   },
   "outputs": [],
   "source": [
    "pd = {\"gameString\":\"pd\", \"game\":[[8, 8],[0, 12],[12, 0],[4,4]], \"choices\":[0 ,1, 3]}                            # 0 1 3\n",
    "threat = {\"gameString\":\"threat\", \"game\":[[12, 6],[6, 12],[6, 0],[0,6]], \"choices\":[ 0, 1, 2, 3]}                      #  0 1 2 3\n",
    "disjunctive = {\"gameString\":\"disjunctive\", \"game\":[[12,12], [12,12], [12,12], [0,0]], \"choices\":[0, 3]}      #  0 3\n",
    "coordination = {\"gameString\":\"coordination\", \"game\":[[12,12], [0,0], [0,0], [12,12]], \"choices\":[ 0, 1]}       #  0 1\n",
    "singleControl = {\"gameString\":\"singleControl\", \"game\":[[6,6], [0,6], [6,6], [0,6]], \"choices\":[0, 1]}              #  0 1\n",
    "games = [pd, threat, disjunctive, coordination, singleControl]"
   ]
  },
  {
   "cell_type": "code",
   "execution_count": 10,
   "metadata": {
    "collapsed": false
   },
   "outputs": [
    {
     "name": "stdout",
     "output_type": "stream",
     "text": [
      "pd \t [0, 0] \t FSE: 0.884457 0.115542 0.000001\n",
      "pd \t [0, 1] \t FSE: 0.086113 0.909601 0.004286\n",
      "pd \t [1, 1] \t FSE: 0.000346 0.295148 0.704506\n",
      "threat \t [0, 0] \t FSE: 0.881741 0.117964 0.000295\n",
      "threat \t [0, 1] \t FSE: 0.106136 0.787727 0.106136\n",
      "threat \t [1, 0] \t FSE: 0.468651 0.062699 0.468651\n",
      "threat \t [1, 1] \t FSE: 0.000333 0.002475 0.997192\n",
      "disjunctive \t [0, 0] \t FSE: 0.496476 0.496476 0.007048\n",
      "disjunctive \t [1, 1] \t FSE: 0.000008 0.000008 0.999984\n",
      "coordination \t [0, 0] \t FSE: 0.333333 0.333333 0.333333\n",
      "coordination \t [0, 1] \t FSE: 0.333333 0.333333 0.333333\n",
      "singleControl \t [0, 0] \t FSE: 0.551803 0.439446 0.008751\n",
      "singleControl \t [0, 1] \t FSE: 0.012838 0.177666 0.809496\n"
     ]
    }
   ],
   "source": [
    "choicemap = {0:[0,0], 1:[0,1], 2:[1,0], 3:[1,1]}\n",
    "for game in games:\n",
    "    for choice in game[\"choices\"]:\n",
    "        probs = FSE(game[\"game\"],choicemap[choice][0],choicemap[choice][1])\n",
    "        print(\"{} \\t {} \\t FSE: {:f} {:f} {:f}\".format(game[\"gameString\"], choicemap[choice], *probs))"
   ]
  }
 ],
 "metadata": {
  "anaconda-cloud": {},
  "kernelspec": {
   "display_name": "Python [Root]",
   "language": "python",
   "name": "Python [Root]"
  },
  "language_info": {
   "codemirror_mode": {
    "name": "ipython",
    "version": 3
   },
   "file_extension": ".py",
   "mimetype": "text/x-python",
   "name": "python",
   "nbconvert_exporter": "python",
   "pygments_lexer": "ipython3",
   "version": "3.5.2"
  }
 },
 "nbformat": 4,
 "nbformat_minor": 0
}
