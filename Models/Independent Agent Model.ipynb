{
 "cells": [
  {
   "cell_type": "markdown",
   "metadata": {
    "collapsed": true
   },
   "source": [
    "# The Independent Agent Model"
   ]
  },
  {
   "cell_type": "code",
   "execution_count": 1,
   "metadata": {
    "collapsed": true
   },
   "outputs": [],
   "source": [
    "import numpy as np\n",
    "import pandas as pd\n",
    "import tensorflow as tf\n",
    "import matplotlib.pyplot as plt\n",
    "%matplotlib inline"
   ]
  },
  {
   "cell_type": "code",
   "execution_count": 2,
   "metadata": {
    "collapsed": false
   },
   "outputs": [],
   "source": [
    "def normalizeGame(somegame):\n",
    "    means =  np.sum(somegame, 0)/4\n",
    "#     print(means)\n",
    "#     ranges = np.ptp(somegame)\n",
    "    normalgame = (somegame - means)#/ranges\n",
    "    return normalgame\n",
    "\n",
    "def printGame(somegame):\n",
    "    print(somegame[0], somegame[1],\"\\n\",somegame[2],somegame[3])"
   ]
  },
  {
   "cell_type": "code",
   "execution_count": 3,
   "metadata": {
    "collapsed": true
   },
   "outputs": [],
   "source": [
    "import numpy as np\n",
    "\n",
    "def softmax(x):\n",
    "    e_x = np.exp(x - np.max(x))\n",
    "    out = e_x / e_x.sum()\n",
    "    return out"
   ]
  },
  {
   "cell_type": "markdown",
   "metadata": {},
   "source": [
    "# Calculate probability of ending up in each cell"
   ]
  },
  {
   "cell_type": "code",
   "execution_count": 4,
   "metadata": {
    "collapsed": false
   },
   "outputs": [],
   "source": [
    "def gameProbabilities(somegame, wAa, wAb, wBa, wBb, gAb, gBa, ChoiceA, ChoiceB):\n",
    "    ''' Calculate probability of ending up in each cell of a game'''  \n",
    "    # Each player chooses one of the 4 cells to end up in\n",
    "    # Their results are then averaged or multiplied (then normalized if necessary)\n",
    "    game = normalizeGame(somegame)\n",
    "    \n",
    "    maxa,maxb = np.max(somegame,0)\n",
    "    pa = np.array([0,0,0,0])\n",
    "    pb = np.array([0,0,0,0])\n",
    "\n",
    "    for i in range(4):\n",
    "        pa[i] = game[i][0] * wAa + game[i][1] * gAb * wAb\n",
    "        \n",
    "    for i in range(4):\n",
    "        pb[i] = game[i][0] * wBa * gBa + game[i][1]  * wBb\n",
    "\n",
    "    pa = softmax(pa)\n",
    "    pb = softmax(pb)\n",
    "    \n",
    "    probs = abs(np.multiply(pa, pb))\n",
    "    scale = np.sum(probs)\n",
    "    i = ChoiceA * 2  + ChoiceB\n",
    "    \n",
    "    return abs(pa[i] * pb[i] / scale)"
   ]
  },
  {
   "cell_type": "markdown",
   "metadata": {},
   "source": [
    "# Probability of friends\n",
    "\n",
    "$ P(friends | C_A, C_B, g) = \\frac{P(C_A | friends) * P(friends)}{P(C_A, C_B)} $  \n",
    "$ \\propto P(C_A, C_B \\space|\\space friends) * P(friends) $  \n",
    "$ \\propto P(C_A, C_B \\space|\\space friends) $  \n",
    "$ = P(C_A, C_B \\space|\\space W_A < W_B, \\gamma = 1, ...)$  \n",
    "$ \\propto \\frac{1}{n} \\sum_{Wa, Wb}^{n} P(C_A, C_B \\space|\\space W_A < W_B, \\gamma = 1, ...)$"
   ]
  },
  {
   "cell_type": "code",
   "execution_count": 5,
   "metadata": {
    "collapsed": false
   },
   "outputs": [],
   "source": [
    "def friendProb(game, choiceA, choiceB):\n",
    "    gamma = 1\n",
    "    wAa = 0\n",
    "    wAb = 1\n",
    "\n",
    "    wBa = 1\n",
    "    wBb = 0\n",
    "    prob = gameProbabilities(game, wAa, wAb, wBa, wBb, gamma, gamma, choiceA, choiceB)\n",
    "#     print(probs)\n",
    "\n",
    "#     return 1\n",
    "    return prob\n"
   ]
  },
  {
   "cell_type": "code",
   "execution_count": 6,
   "metadata": {
    "collapsed": true
   },
   "outputs": [],
   "source": [
    "def enemyProb(game, choiceA, choiceB):\n",
    "\n",
    "    gamma = -1\n",
    "    wAa = 0\n",
    "    wAb = 1\n",
    "\n",
    "    wBa = 1\n",
    "    wBb = 0\n",
    "\n",
    "\n",
    "    prob = gameProbabilities(game, wAa, wAb, wBa, wBb, gamma, gamma, choiceA, choiceB)\n",
    "\n",
    "    return prob\n"
   ]
  },
  {
   "cell_type": "code",
   "execution_count": 7,
   "metadata": {
    "collapsed": true
   },
   "outputs": [],
   "source": [
    "def strangerProb(game, choiceA, choiceB):\n",
    "    probs = np.zeros([51, 51])\n",
    "    wA = np.linspace(0.5,1,50)\n",
    "    wB = np.linspace(0.5,1,50)\n",
    "    gamma = 1\n",
    "    for wAa in wA:\n",
    "        wAb = 1 - wAa\n",
    "        for wBb in wB:\n",
    "            wBa = 1 - wBb\n",
    "            prob = gameProbabilities(game, wAa, wAb, wBa, wBb, gamma, gamma, choiceA, choiceB)\n",
    "            probs[int(wAa*100)- 50,int(wBb*100) - 50] = prob\n",
    "#             print(prob, wAa, wAb, wBa, wBb, gamma)\n",
    "#     print(probs)\n",
    "    return np.sum(probs)/(51.*51.)\n"
   ]
  },
  {
   "cell_type": "code",
   "execution_count": 8,
   "metadata": {
    "collapsed": false
   },
   "outputs": [],
   "source": [
    "def FSE(somegame, choiceA, choiceB):\n",
    "    F = friendProb(somegame,choiceA,choiceB)\n",
    "    S = strangerProb(somegame,choiceA,choiceB)\n",
    "    E = enemyProb(somegame,choiceA,choiceB)\n",
    "#     print(F,S,E)\n",
    "    fse = F+S+E\n",
    "    return F/fse, S/fse, E/fse"
   ]
  },
  {
   "cell_type": "code",
   "execution_count": 9,
   "metadata": {
    "collapsed": false
   },
   "outputs": [],
   "source": [
    "pd = {\"gameString\":\"pd\", \"game\":[[8, 8],[0, 12],[12, 0],[4,4]], \"choices\":[0 ,1, 3]}                            # 0 1 3\n",
    "threat = {\"gameString\":\"threat\", \"game\":[[12, 6],[6, 12],[6, 0],[0,6]], \"choices\":[ 0, 1, 2, 3]}                      #  0 1 2 3\n",
    "disjunctive = {\"gameString\":\"disjunctive\", \"game\":[[12,12], [12,12], [12,12], [0,0]], \"choices\":[0, 3]}      #  0 3\n",
    "coordination = {\"gameString\":\"coordination\", \"game\":[[12,12], [0,0], [0,0], [12,12]], \"choices\":[ 0, 1]}       #  0 1\n",
    "singleControl = {\"gameString\":\"singleControl\", \"game\":[[6,6], [0,6], [6,6], [0,6]], \"choices\":[0, 1]}              #  0 1\n",
    "games = [pd, threat, disjunctive, coordination, singleControl]"
   ]
  },
  {
   "cell_type": "code",
   "execution_count": 11,
   "metadata": {
    "collapsed": false
   },
   "outputs": [
    {
     "name": "stdout",
     "output_type": "stream",
     "text": [
      "pd \t [0, 0] \t FSE: 0.556953 0.442860 0.000187\n",
      "pd \t [0, 1] \t FSE: 0.133424 0.733153 0.133424\n",
      "pd \t [1, 1] \t FSE: 0.000335 0.000267 0.999398\n",
      "threat \t [0, 0] \t FSE: 0.509908 0.490089 0.000003\n",
      "threat \t [0, 1] \t FSE: 0.509908 0.490089 0.000003\n",
      "threat \t [1, 0] \t FSE: 0.000006 0.000041 0.999952\n",
      "threat \t [1, 1] \t FSE: 0.000006 0.000041 0.999952\n",
      "disjunctive \t [0, 0] \t FSE: 0.509900 0.490100 0.000000\n",
      "disjunctive \t [1, 1] \t FSE: 0.000000 0.000000 1.000000\n",
      "coordination \t [0, 0] \t FSE: 0.509900 0.490100 0.000000\n",
      "coordination \t [0, 1] \t FSE: 0.000000 0.000000 1.000000\n",
      "singleControl \t [0, 0] \t FSE: 0.518033 0.480683 0.001284\n",
      "singleControl \t [0, 1] \t FSE: 0.002388 0.034341 0.963272\n"
     ]
    }
   ],
   "source": [
    "choicemap = {0:[0,0], 1:[0,1], 2:[1,0], 3:[1,1]}\n",
    "for game in games:\n",
    "    for choice in game[\"choices\"]:\n",
    "        probs = FSE(game[\"game\"],choicemap[choice][0],choicemap[choice][1])\n",
    "        print(\"{} \\t {} \\t FSE: {:f} {:f} {:f}\".format(game[\"gameString\"], choicemap[choice], *probs))"
   ]
  }
 ],
 "metadata": {
  "anaconda-cloud": {},
  "kernelspec": {
   "display_name": "Python [Root]",
   "language": "python",
   "name": "Python [Root]"
  },
  "language_info": {
   "codemirror_mode": {
    "name": "ipython",
    "version": 3
   },
   "file_extension": ".py",
   "mimetype": "text/x-python",
   "name": "python",
   "nbconvert_exporter": "python",
   "pygments_lexer": "ipython3",
   "version": "3.5.2"
  }
 },
 "nbformat": 4,
 "nbformat_minor": 0
}
