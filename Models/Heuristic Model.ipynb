{
 "cells": [
  {
   "cell_type": "markdown",
   "metadata": {
    "collapsed": true
   },
   "source": [
    "# The Heuristic Model"
   ]
  },
  {
   "cell_type": "code",
   "execution_count": 18,
   "metadata": {
    "collapsed": true
   },
   "outputs": [],
   "source": [
    "import numpy as np\n",
    "import pandas as pd\n",
    "import tensorflow as tf\n",
    "import matplotlib.pyplot as plt\n",
    "%matplotlib inline"
   ]
  },
  {
   "cell_type": "code",
   "execution_count": 19,
   "metadata": {
    "collapsed": false
   },
   "outputs": [],
   "source": [
    "def normalizeGame(somegame):\n",
    "    means =  np.sum(somegame, 0)#/4\n",
    "#     ranges = np.ptp(somegame)\n",
    "    normalgame = (somegame - means)#/ranges\n",
    "    return normalgame\n",
    "\n",
    "def printGame(somegame):\n",
    "    print(somegame[0], somegame[1],\"\\n\",somegame[2],somegame[3])"
   ]
  },
  {
   "cell_type": "markdown",
   "metadata": {},
   "source": [
    "# Calculate probability of ending up in each cell"
   ]
  },
  {
   "cell_type": "markdown",
   "metadata": {
    "collapsed": true
   },
   "source": [
    "$relationship = \\cases{\n",
    "     friends\\space\\space \\space \\space \\space if g_{C_A, C_B} is maximal,\\\\\n",
    "     enemies\\space\\space \\space \\space \\space if g_{C_A, C_B} is minimal,\\\\\n",
    "     strangers\\space\\space \\space \\space \\space otherwise}\n",
    "    $"
   ]
  },
  {
   "cell_type": "code",
   "execution_count": 20,
   "metadata": {
    "collapsed": false
   },
   "outputs": [],
   "source": [
    "def FSE(somegame, choiceA, choiceB):\n",
    "    sums = [somegame[0][0] + somegame[0][1], somegame[1][0] + somegame[1][1], somegame[2][0] + somegame[2][1], somegame[3][0] + somegame[3][1]] \n",
    "    maximum = np.argmax(sums)\n",
    "    minimum = np.argmin(sums)\n",
    "    \n",
    "    F = 0\n",
    "    S = 0\n",
    "    E = 0\n",
    "    index = 2*(choiceA) + choiceB\n",
    "    if index == maximum:\n",
    "        F = 1\n",
    "        \n",
    "    elif index == minimum:\n",
    "        E = 1\n",
    "    else:\n",
    "        S = 1\n",
    "    \n",
    "    #print(index)\n",
    "    return F,S,E"
   ]
  },
  {
   "cell_type": "code",
   "execution_count": 21,
   "metadata": {
    "collapsed": false
   },
   "outputs": [],
   "source": [
    "pd = {\"gameString\":\"pd\", \"game\":[[8, 8],[0, 12],[12, 0],[4,4]], \"choices\":[0 ,1, 3]}                            # 0 1 3\n",
    "threat = {\"gameString\":\"threat\", \"game\":[[12, 6],[6, 12],[6, 0],[0,6]], \"choices\":[ 0, 1, 2, 3]}                      #  0 1 2 3\n",
    "disjunctive = {\"gameString\":\"disjunctive\", \"game\":[[12,12], [12,12], [12,12], [0,0]], \"choices\":[0, 3]}      #  0 3\n",
    "coordination = {\"gameString\":\"coordination\", \"game\":[[12,12], [0,0], [0,0], [12,12]], \"choices\":[ 0, 1]}       #  0 1\n",
    "singleControl = {\"gameString\":\"singleControl\", \"game\":[[6,6], [0,6], [6,6], [0,6]], \"choices\":[0, 1]}              #  0 1\n",
    "games = [pd, threat, disjunctive, coordination, singleControl]"
   ]
  },
  {
   "cell_type": "code",
   "execution_count": 22,
   "metadata": {
    "collapsed": false
   },
   "outputs": [
    {
     "name": "stdout",
     "output_type": "stream",
     "text": [
      "pd \t [0, 0] \t FSE: 1.000000 0.000000 0.000000\n",
      "pd \t [0, 1] \t FSE: 0.000000 1.000000 0.000000\n",
      "pd \t [1, 1] \t FSE: 0.000000 0.000000 1.000000\n",
      "threat \t [0, 0] \t FSE: 1.000000 0.000000 0.000000\n",
      "threat \t [0, 1] \t FSE: 0.000000 1.000000 0.000000\n",
      "threat \t [1, 0] \t FSE: 0.000000 0.000000 1.000000\n",
      "threat \t [1, 1] \t FSE: 0.000000 1.000000 0.000000\n",
      "disjunctive \t [0, 0] \t FSE: 1.000000 0.000000 0.000000\n",
      "disjunctive \t [1, 1] \t FSE: 0.000000 0.000000 1.000000\n",
      "coordination \t [0, 0] \t FSE: 1.000000 0.000000 0.000000\n",
      "coordination \t [0, 1] \t FSE: 0.000000 0.000000 1.000000\n",
      "singleControl \t [0, 0] \t FSE: 1.000000 0.000000 0.000000\n",
      "singleControl \t [0, 1] \t FSE: 0.000000 0.000000 1.000000\n"
     ]
    }
   ],
   "source": [
    "choicemap = {0:[0,0], 1:[0,1], 2:[1,0], 3:[1,1]}\n",
    "for game in games:\n",
    "    for choice in game[\"choices\"]:\n",
    "        probs = FSE(game[\"game\"],choicemap[choice][0],choicemap[choice][1])\n",
    "        print(\"{} \\t {} \\t FSE: {:f} {:f} {:f}\".format(game[\"gameString\"], choicemap[choice], *probs))"
   ]
  }
 ],
 "metadata": {
  "anaconda-cloud": {},
  "kernelspec": {
   "display_name": "Python [Root]",
   "language": "python",
   "name": "Python [Root]"
  },
  "language_info": {
   "codemirror_mode": {
    "name": "ipython",
    "version": 3
   },
   "file_extension": ".py",
   "mimetype": "text/x-python",
   "name": "python",
   "nbconvert_exporter": "python",
   "pygments_lexer": "ipython3",
   "version": "3.5.2"
  }
 },
 "nbformat": 4,
 "nbformat_minor": 0
}
