{
 "cells": [
  {
   "cell_type": "markdown",
   "metadata": {
    "collapsed": true
   },
   "source": [
    "# The Heuristic Model"
   ]
  },
  {
   "cell_type": "code",
   "execution_count": 1,
   "metadata": {
    "collapsed": true
   },
   "outputs": [],
   "source": [
    "import numpy as np\n",
    "import pandas as pd\n",
    "import tensorflow as tf\n",
    "import matplotlib.pyplot as plt\n",
    "%matplotlib inline"
   ]
  },
  {
   "cell_type": "code",
   "execution_count": 5,
   "metadata": {
    "collapsed": false
   },
   "outputs": [],
   "source": [
    "def normalizeGame(somegame):\n",
    "    means =  np.sum(somegame, 0)#/4\n",
    "#     ranges = np.ptp(somegame)\n",
    "    normalgame = (somegame - means)#/ranges\n",
    "    return normalgame\n",
    "\n",
    "def printGame(somegame):\n",
    "    print(somegame[0], somegame[1],\"\\n\",somegame[2],somegame[3])"
   ]
  },
  {
   "cell_type": "code",
   "execution_count": 7,
   "metadata": {
    "collapsed": true
   },
   "outputs": [],
   "source": [
    "def softmax(x):\n",
    "    e_x = np.exp(x - np.max(x))\n",
    "    out = e_x / e_x.sum()\n",
    "    return out"
   ]
  },
  {
   "cell_type": "markdown",
   "metadata": {},
   "source": [
    "# Calculate probability of ending up in each cell"
   ]
  },
  {
   "cell_type": "code",
   "execution_count": 8,
   "metadata": {
    "collapsed": false
   },
   "outputs": [],
   "source": [
    "def gameProbabilities(somegame, wAa, wAb, wBa, wBb, gAb, gBa, ChoiceA, ChoiceB):\n",
    "    ''' Calculate probability of ending up in each cell of a game'''  \n",
    "    game = normalizeGame(somegame)\n",
    "#     game = somegame\n",
    "    EVA1 = (game[0][0] * wAa + game[0][1] * gAb * wAb + game[1][0] * wAa + game[1][1] * gAb * wAb)/2.0\n",
    "    EVA2 = (game[2][0] * wAa + game[2][1] * gAb * wAb + game[3][0] * wAa + game[3][1] * gAb * wAb)/2.0\n",
    "    PA = softmax(np.array([EVA1, EVA2]))\n",
    "\n",
    "    EVB1 = (game[0][0] * gBa * wBa + game[0][1]  * wBb + game[2][0] * wBa * gBa + game[2][1] * wBb)/2.0\n",
    "    EVB2 = (game[1][0] * gBa * wBa + game[1][1]  * wBb + game[3][0] * wBa * gBa + game[3][1] * wBb)/2.0\n",
    "    PB = softmax(np.array([EVB1, EVB2]))\n",
    "    \n",
    "    if False:\n",
    "        print(EVA1)\n",
    "        print(EVA2)\n",
    "        print(\"PA:\",PA)\n",
    "        print(\"\")\n",
    "        print(EVB1)\n",
    "        print(EVB2)\n",
    "        print(\"PB:\",PB)\n",
    "        print(\"\")\n",
    "        print(\"\"+ str(PA[0]*PB[0]) + \" \" + str(PA[0]*PB[1]) + \"\\n\" + str(PA[1]*PB[0]) + \" \" + str(PA[1]*PB[1]))\n",
    "    \n",
    "    return PA[ChoiceA]* PB[ChoiceB]"
   ]
  },
  {
   "cell_type": "markdown",
   "metadata": {},
   "source": [
    "# Probability of friends\n",
    "\n",
    "$ P(friends | C_A, C_B, g) = \\frac{P(C_A | friends) * P(friends)}{P(C_A, C_B)} $  \n",
    "$ \\propto P(C_A, C_B \\space|\\space friends) * P(friends) $  \n",
    "$ \\propto P(C_A, C_B \\space|\\space friends) $  \n",
    "$ = P(C_A, C_B \\space|\\space W_A < W_B, \\gamma = 1, ...)$  \n",
    "$ \\propto \\frac{1}{n} \\sum_{Wa, Wb}^{n} P(C_A, C_B \\space|\\space W_A < W_B, \\gamma = 1, ...)$"
   ]
  },
  {
   "cell_type": "code",
   "execution_count": 10,
   "metadata": {
    "collapsed": false
   },
   "outputs": [],
   "source": [
    "def friendProb(game, choiceA, choiceB):\n",
    "    probs = np.zeros([51, 51])\n",
    "    wA = np.linspace(0,0.5,51)\n",
    "    wB = np.linspace(0,0.5,51)\n",
    "    gamma = 1\n",
    "    for wAa in wA:\n",
    "        wAb = 1 - wAa\n",
    "        for wBb in wB:\n",
    "            wBa = 1 - wBb\n",
    "            prob = gameProbabilities(game, wAa, wAb, wBa, wBb, gamma, gamma, choiceA, choiceB)\n",
    "            probs[int(wAa*100),int(wBb*100)] = prob\n",
    "#     print(probs)\n",
    "    return np.sum(probs)/(51.*51.)\n"
   ]
  },
  {
   "cell_type": "code",
   "execution_count": 11,
   "metadata": {
    "collapsed": true
   },
   "outputs": [],
   "source": [
    "def enemyProb(game, choiceA, choiceB):\n",
    "    probs = np.zeros([51, 51])\n",
    "    wA = np.linspace(0,0.5,51)\n",
    "    wB = np.linspace(0,0.5,51)\n",
    "    gamma = -1\n",
    "    for wAa in wA:\n",
    "        wAb = 1 - wAa\n",
    "        for wBb in wB:\n",
    "            wBa = 1 - wBb\n",
    "            prob = gameProbabilities(game, wAa, wAb, wBa, wBb, gamma, gamma, choiceA, choiceB)\n",
    "            probs[int(wAa*100),int(wBb*100)] = prob\n",
    "#     print(probs)\n",
    "    return np.sum(probs)/(51.*51.)\n"
   ]
  },
  {
   "cell_type": "code",
   "execution_count": 12,
   "metadata": {
    "collapsed": true
   },
   "outputs": [],
   "source": [
    "def strangerProb(game, choiceA, choiceB):\n",
    "    probs = np.zeros([51, 51])\n",
    "    wA = np.linspace(0.5,1,50)\n",
    "    wB = np.linspace(0.5,1,50)\n",
    "    gamma = 1\n",
    "    for wAa in wA:\n",
    "        wAb = 1 - wAa\n",
    "        for wBb in wB:\n",
    "            wBa = 1 - wBb\n",
    "            prob = gameProbabilities(game, wAa, wAb, wBa, wBb, gamma, gamma, choiceA, choiceB)\n",
    "            probs[int(wAa*100)- 50,int(wBb*100) - 50] = prob\n",
    "#     print(probs)\n",
    "    return np.sum(probs)/(51.*51.)\n"
   ]
  },
  {
   "cell_type": "code",
   "execution_count": 13,
   "metadata": {
    "collapsed": false
   },
   "outputs": [],
   "source": [
    "def FSE(somegame, choiceA, choiceB):\n",
    "    sums = [somegame[0][0] + somegame[0][1], somegame[1][0] + somegame[1][1], somegame[2][0] + somegame[2][1], somegame[3][0] + somegame[3][1]] \n",
    "    maximum = np.argmax(sums)\n",
    "    minimum = np.argmin(sums)\n",
    "    \n",
    "    F = 0\n",
    "    S = 0\n",
    "    E = 0\n",
    "    index = 2*(choiceA) + choiceB\n",
    "    if index == maximum:\n",
    "        F = 1\n",
    "        \n",
    "    elif index == minimum:\n",
    "        E = 1\n",
    "    else:\n",
    "        S = 1\n",
    "    \n",
    "    #print(index)\n",
    "    return F,S,E"
   ]
  },
  {
   "cell_type": "code",
   "execution_count": 15,
   "metadata": {
    "collapsed": false
   },
   "outputs": [],
   "source": [
    "pd = {\"gameString\":\"pd\", \"game\":[[8, 8],[0, 12],[12, 0],[4,4]], \"choices\":[0 ,1, 3]}                            # 0 1 3\n",
    "threat = {\"gameString\":\"threat\", \"game\":[[12, 6],[6, 12],[6, 0],[0,6]], \"choices\":[ 0, 1, 2, 3]}                      #  0 1 2 3\n",
    "disjunctive = {\"gameString\":\"disjunctive\", \"game\":[[12,12], [12,12], [12,12], [0,0]], \"choices\":[0, 3]}      #  0 3\n",
    "coordination = {\"gameString\":\"coordination\", \"game\":[[12,12], [0,0], [0,0], [12,12]], \"choices\":[ 0, 1]}       #  0 1\n",
    "singleControl = {\"gameString\":\"singleControl\", \"game\":[[6,6], [0,6], [6,6], [0,6]], \"choices\":[0, 1]}              #  0 1\n",
    "games = [pd, threat, disjunctive, coordination, singleControl]"
   ]
  },
  {
   "cell_type": "code",
   "execution_count": 16,
   "metadata": {
    "collapsed": false
   },
   "outputs": [
    {
     "name": "stdout",
     "output_type": "stream",
     "text": [
      "pd \t [0, 0] \t FSE: 1.000000 0.000000 0.000000\n",
      "pd \t [0, 1] \t FSE: 0.000000 1.000000 0.000000\n",
      "pd \t [1, 1] \t FSE: 0.000000 0.000000 1.000000\n",
      "threat \t [0, 0] \t FSE: 1.000000 0.000000 0.000000\n",
      "threat \t [0, 1] \t FSE: 0.000000 1.000000 0.000000\n",
      "threat \t [1, 0] \t FSE: 0.000000 0.000000 1.000000\n",
      "threat \t [1, 1] \t FSE: 0.000000 1.000000 0.000000\n",
      "disjunctive \t [0, 0] \t FSE: 1.000000 0.000000 0.000000\n",
      "disjunctive \t [1, 1] \t FSE: 0.000000 0.000000 1.000000\n",
      "coordination \t [0, 0] \t FSE: 1.000000 0.000000 0.000000\n",
      "coordination \t [0, 1] \t FSE: 0.000000 0.000000 1.000000\n",
      "singleControl \t [0, 0] \t FSE: 1.000000 0.000000 0.000000\n",
      "singleControl \t [0, 1] \t FSE: 0.000000 0.000000 1.000000\n"
     ]
    }
   ],
   "source": [
    "choicemap = {0:[0,0], 1:[0,1], 2:[1,0], 3:[1,1]}\n",
    "for game in games:\n",
    "    for choice in game[\"choices\"]:\n",
    "        probs = FSE(game[\"game\"],choicemap[choice][0],choicemap[choice][1])\n",
    "        print(\"{} \\t {} \\t FSE: {:f} {:f} {:f}\".format(game[\"gameString\"], choicemap[choice], *probs))"
   ]
  }
 ],
 "metadata": {
  "anaconda-cloud": {},
  "kernelspec": {
   "display_name": "Python [Root]",
   "language": "python",
   "name": "Python [Root]"
  },
  "language_info": {
   "codemirror_mode": {
    "name": "ipython",
    "version": 3
   },
   "file_extension": ".py",
   "mimetype": "text/x-python",
   "name": "python",
   "nbconvert_exporter": "python",
   "pygments_lexer": "ipython3",
   "version": "3.5.2"
  }
 },
 "nbformat": 4,
 "nbformat_minor": 0
}
